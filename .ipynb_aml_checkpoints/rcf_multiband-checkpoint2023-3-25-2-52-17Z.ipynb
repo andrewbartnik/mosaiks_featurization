{
 "cells": [
  {
   "cell_type": "markdown",
   "id": "440e592b-c09d-4e75-91fc-00e5d36d391d",
   "metadata": {},
   "source": [
    "## MOSAIKS feature extraction\n",
    "\n",
    "This tutorial demonstrates the **MOSAIKS** method for extracting _feature vectors_ from satellite imagery patches for use in downstream modeling tasks. It will show:\n",
    "- How to extract 1km$^2$ patches of Sentinel 2 or Landsat multispectral imagery for a list of latitude, longitude points\n",
    "- How to extract summary features from each of these imagery patches\n",
    "- How to use the summary features in a linear model of the population density at each point\n",
    "\n",
    "### Background\n",
    "\n",
    "Consider the case where you have a dataset of latitude and longitude points assosciated with some dependent variable (for example: population density, weather, housing prices, biodiversity) and, potentially, other independent variables. You would like to model the dependent variable as a function of the independent variables, but instead of including latitude and longitude directly in this model, you would like to include some high dimensional representation of what the Earth looks like at that point (that hopefully explains some of the variance in the dependent variable!). From the computer vision literature, there are various [representation learning techniques](https://en.wikipedia.org/wiki/Feature_learning) that can be used to do this, i.e. extract _features vectors_ from imagery. This notebook gives an implementation of the technique described in [Rolf et al. 2021](https://www.nature.com/articles/s41467-021-24638-z), \"A generalizable and accessible approach to machine learning with global satellite imagery\" called Multi-task Observation using Satellite Imagery & Kitchen Sinks (**MOSAIKS**). For more information about **MOSAIKS** see the [project's webpage](http://www.globalpolicy.science/mosaiks).\n",
    "\n",
    "### Environment setup\n",
    "This notebook works with or without an API key, but you will be given more permissive access to the data with an API key.\n",
    "- If you're running this on the [Planetary Computer Hub](http://planetarycomputer.microsoft.com/compute), make sure to choose the **GPU - PyTorch** profile when presented with the form to choose your environment.\n",
    "- The Planetary Computer Hub is pre-configured to use your API key.\n",
    "- To use your API key locally, set the environment variable `PC_SDK_SUBSCRIPTION_KEY` or use `pc.settings.set_subscription_key(<YOUR API Key>)`.\n",
    "    \n",
    "**Notes**:\n",
    "- This example uses either\n",
    "    - [sentinel-2-l2a data](https://planetarycomputer.microsoft.com/dataset/sentinel-2-l2a)\n",
    "    - [landsat-c2-l2 data](https://planetarycomputer.microsoft.com/dataset/landsat-c2-l2)\n",
    "- The techniques used here apply equally well to other remote-sensing datasets."
   ]
  },
  {
   "cell_type": "code",
   "execution_count": 20,
   "id": "522ab90b-af76-477d-a930-4d63c6847028",
   "metadata": {
    "gather": {
     "logged": 1650114371790
    }
   },
   "outputs": [],
   "source": [
    "!pip install -q git+https://github.com/geopandas/dask-geopandas"
   ]
  },
  {
   "cell_type": "code",
   "execution_count": 20,
   "id": "281d0543-f6b0-4b68-a4ba-a99c547b00c8",
   "metadata": {
    "gather": {
     "logged": 1651174535306
    }
   },
   "outputs": [],
   "source": [
    "import warnings\n",
    "import time\n",
    "import os\n",
    "import gc\n",
    "import calendar\n",
    "import re\n",
    "\n",
    "RASTERIO_BEST_PRACTICES = dict(  # See https://github.com/pangeo-data/cog-best-practices\n",
    "    CURL_CA_BUNDLE=\"/etc/ssl/certs/ca-certificates.crt\",\n",
    "    GDAL_DISABLE_READDIR_ON_OPEN=\"EMPTY_DIR\",\n",
    "    AWS_NO_SIGN_REQUEST=\"YES\",\n",
    "    GDAL_MAX_RAW_BLOCK_CACHE_SIZE=\"200000000\",\n",
    "    GDAL_SWATH_SIZE=\"200000000\",\n",
    "    VSI_CURL_CACHE_SIZE=\"200000000\",\n",
    ")\n",
    "os.environ.update(RASTERIO_BEST_PRACTICES)\n",
    "\n",
    "import numpy as np\n",
    "import pandas as pd\n",
    "import matplotlib.pyplot as plt\n",
    "\n",
    "import torch\n",
    "import torch.nn as nn\n",
    "import torch.nn.functional as F\n",
    "from torch.utils.data import Dataset, DataLoader\n",
    "\n",
    "import rasterio\n",
    "import rasterio.warp\n",
    "import rasterio.mask\n",
    "import shapely.geometry\n",
    "import geopandas\n",
    "import dask_geopandas\n",
    "from dask.distributed import Client\n",
    "import dask.dataframe as dd\n",
    "import dask_gateway\n",
    "\n",
    "from pystac import Item\n",
    "import stackstac\n",
    "import pyproj\n",
    "\n",
    "warnings.filterwarnings(action=\"ignore\", category=UserWarning, module=\"torch\")\n",
    "warnings.filterwarnings(action=\"ignore\", category=FutureWarning)\n",
    "warnings.filterwarnings(action=\"ignore\", category=RuntimeWarning)\n",
    "warnings.filterwarnings(action=\"ignore\", category=UserWarning)\n",
    "\n",
    "import pystac_client\n",
    "import planetary_computer as pc\n",
    "\n",
    "\n",
    "# Disabling the benchmarking feature with torch.backends.cudnn.benchmark = False \n",
    "# causes cuDNN to deterministically select an algorithm, possibly at the cost of reduced performance.\n",
    "# https://pytorch.org/docs/stable/notes/randomness.html\n",
    "torch.backends.cudnn.benchmark = False\n",
    "\n",
    "np.random.seed(42)\n",
    "torch.manual_seed(42)\n",
    "\n",
    "import random\n",
    "random.seed(42)"
   ]
  },
  {
   "cell_type": "markdown",
   "id": "3cefa598-0653-4fd4-b7ce-14fb7c4e59e2",
   "metadata": {},
   "source": [
    "## Set Parameters"
   ]
  },
  {
   "cell_type": "code",
   "execution_count": 21,
   "id": "e28b414c-1d02-491a-9518-1b777898950d",
   "metadata": {
    "collapsed": false,
    "gather": {
     "logged": 1651174535433
    },
    "jupyter": {
     "outputs_hidden": false,
     "source_hidden": false
    },
    "nteract": {
     "transient": {
      "deleting": false
     }
    }
   },
   "outputs": [],
   "source": [
    "num_features = 1000\n",
    "country_code = 'ZMB'\n",
    "use_file = False #changed to false \n",
    "# use_file = False"
   ]
  },
  {
   "cell_type": "code",
   "execution_count": 22,
   "id": "ce354d45-8f23-4630-ae55-95738e4a443d",
   "metadata": {
    "collapsed": false,
    "gather": {
     "logged": 1651174535433
    },
    "jupyter": {
     "outputs_hidden": false,
     "source_hidden": false
    },
    "nteract": {
     "transient": {
      "deleting": false
     }
    }
   },
   "outputs": [],
   "source": [
    "satellite = \"landsat-c2-l2\"\n",
    "#bands = [\n",
    "    #\"red\",\n",
    "    #\"green\", \n",
    "    #\"blue\",\n",
    "    #\"nir08\",\n",
    "    #\"swir16\",\n",
    "    #\"swir22\"\n",
    "#]\n",
    "bands = [    # Landsat-8 Bands\n",
    "    # \"SR_B1\", # Coastal/Aerosol Band (B1)\n",
    "    \"SR_B2\", # Blue Band (B2)\n",
    "    \"SR_B3\", # Green Band (B3)\n",
    "    \"SR_B4\", # Red Band (B4)\n",
    "    \"SR_B5\", # Near Infrared Band 0.8 (B5)\n",
    "    \"SR_B6\", # Short-wave Infrared Band 1.6 (B6)\n",
    "    \"SR_B7\" # Short-wave Infrared Band 2.2 (B7)\n",
    "]"
   ]
  },
  {
   "cell_type": "code",
   "execution_count": 6,
   "id": "b6691b75-c632-448a-845a-33628bf46972",
   "metadata": {
    "collapsed": false,
    "gather": {
     "logged": 1651174535433
    },
    "jupyter": {
     "outputs_hidden": false,
     "source_hidden": false
    },
    "nteract": {
     "transient": {
      "deleting": false
     }
    }
   },
   "outputs": [],
   "source": [
    "# satellite = \"sentinel-2-l2a\"\n",
    "# bands = [  # Sentinel-2 Bands\n",
    "#     \"B02\", # B02 (blue) 10 meter\n",
    "#     \"B03\", # B03 (green) 10 meter\n",
    "#     \"B04\", # B04 (red) 10 meter\n",
    "#     \"B05\", # B05(Veg Red Edge 1) 20 meter\n",
    "#     \"B06\", # B06(Veg Red Edge 2) 20 meter\n",
    "#     \"B07\", # B07(Veg Red Edge 3) 20 meter\n",
    "#     \"B08\", # B08 (NIR) 10 meter\n",
    "#     \"B11\", # B11 (SWIR (1.6)) 20 meter\n",
    "#     \"B12\", # B12 (SWIR (2.2)) 20 meter\n",
    "# ]"
   ]
  },
  {
   "cell_type": "code",
   "execution_count": 23,
   "id": "6bb7126f-4aaf-4615-82da-efc06a2140bd",
   "metadata": {},
   "outputs": [],
   "source": [
    "if satellite == \"landsat-c2-l2\":\n",
    "    resolution = 30\n",
    "    min_image_edge = 6\n",
    "else:\n",
    "    resolution = 10\n",
    "    min_image_edge = 20"
   ]
  },
  {
   "cell_type": "code",
   "execution_count": 24,
   "id": "860d78aa-ae1d-4650-8ac6-46c345208714",
   "metadata": {
    "collapsed": false,
    "gather": {
     "logged": 1651174535542
    },
    "jupyter": {
     "outputs_hidden": false,
     "source_hidden": false
    },
    "nteract": {
     "transient": {
      "deleting": false
     }
    }
   },
   "outputs": [],
   "source": [
    "channels = len(bands)\n",
    "dat_re = re.compile(r'\\d+') \n",
    "l = [str(int(dat_re.search(x).group())) for x in bands if dat_re.search(x)]\n",
    "bands_short = '-'.join(l)"
   ]
  },
  {
   "cell_type": "code",
   "execution_count": 5,
   "id": "55dc0554-2cbf-4e76-80d3-a7d7a9604f76",
   "metadata": {
    "collapsed": false,
    "gather": {
     "logged": 1651174535542
    },
    "jupyter": {
     "outputs_hidden": false,
     "source_hidden": false
    },
    "nteract": {
     "transient": {
      "deleting": false
     }
    }
   },
   "outputs": [],
   "source": [
    "#channels = len(bands)\n",
    "#bands_short = \"r-g-b-nir-swir16-swir22\""
   ]
  },
  {
   "cell_type": "markdown",
   "id": "1ae9b0ec-c334-4751-91c4-91dabff6a44a",
   "metadata": {},
   "source": [
    "## Create grid and sample points to featurize"
   ]
  },
  {
   "cell_type": "code",
   "execution_count": 25,
   "id": "b09c0e05-9ba6-407e-9260-5f9f00decc18",
   "metadata": {
    "gather": {
     "logged": 1651174535812
    }
   },
   "outputs": [],
   "source": [
    "if use_file:\n",
    "    gdf = pd.read_feather('data/keep/ZMB_crop_weights_20k-points.feather')\n",
    "    gdf = (\n",
    "        geopandas\n",
    "        .GeoDataFrame(\n",
    "            gdf, \n",
    "            geometry = geopandas.points_from_xy(x = gdf.lon, y = gdf.lat), \n",
    "            crs='EPSG:4326')\n",
    "    )\n",
    "else:\n",
    "    cell_size = 0.01  # Roughly 1 km\n",
    "    ### get country shape\n",
    "    country_file_name = \"~/PlanetaryComputerExamples/Capstone/Featurization/geoBoundaries-ZMB-ADM0-all(1)/geoBoundaries-ZMB-ADM0_simplified.geojson\"\n",
    "    zambia = geopandas.read_file(country_file_name)\n",
    "    gdf_sea = geopandas.read_file('~/PlanetaryComputerExamples/Featurization/SEAs/features.geojson', crs = 'EPSG:4326')\n",
    "\n",
    "    ### Create grid of points\n",
    "    cell_size = .01  # Very roughly 1 km\n",
    "    xmin, ymin, xmax, ymax = gdf_sea.total_bounds\n",
    "    xs = list(np.arange(xmin, xmax + cell_size, cell_size))\n",
    "    ys = list(np.arange(ymin, ymax + cell_size, cell_size))\n",
    "    def make_cell(x, y, cell_size):\n",
    "        ring = [\n",
    "            (x, y),\n",
    "            (x + cell_size, y),\n",
    "            (x + cell_size, y + cell_size),\n",
    "            (x, y + cell_size)\n",
    "        ]\n",
    "        cell = shapely.geometry.Polygon(ring).centroid\n",
    "        return cell\n"
   ]
  },
  {
   "cell_type": "code",
   "execution_count": 14,
   "id": "323b1751-a461-4331-a5dc-241344bdc73d",
   "metadata": {},
   "outputs": [
    {
     "name": "stdout",
     "output_type": "stream",
     "text": [
      "https://pccompute.westeurope.cloudapp.azure.com/compute/services/dask-gateway/clusters/prod.ffe3eaebe4b046559284045b27c49095/status\n"
     ]
    }
   ],
   "source": [
    "cluster = dask_gateway.GatewayCluster()\n",
    "client = cluster.get_client()\n",
    "cluster.adapt(minimum=2, maximum=50)\n",
    "print(cluster.dashboard_link)"
   ]
  },
  {
   "cell_type": "code",
   "execution_count": 8,
   "id": "c851b193-2ced-4052-8287-8b12db1624d3",
   "metadata": {},
   "outputs": [
    {
     "data": {
      "text/plain": [
       "(14452, 3)"
      ]
     },
     "execution_count": 8,
     "metadata": {},
     "output_type": "execute_result"
    }
   ],
   "source": [
    "center_points = []\n",
    "for x in xs:\n",
    "    for y in ys:\n",
    "        cell = make_cell(x, y, cell_size)\n",
    "        center_points.append(cell)\n",
    "            \n",
    "    ### Put grid into a GeDataFrame for cropping to country shape\n",
    "gdf = geopandas.GeoDataFrame({'geometry': center_points}, crs = 'EPSG:4326')\n",
    "gdf['lon'], gdf['lat'] = gdf.geometry.x, gdf.geometry.y\n",
    "#gdf = gdf.sample(frac=0.1, random_state=43, ignore_index=False) \n",
    "\n",
    "    # convert GeoDataFrame to Dask GeoDataFrame\n",
    "dask_gdf = dask_geopandas.from_geopandas(gdf, npartitions=47)\n",
    "\n",
    "# use Dask to apply the within() method in parallel\n",
    "dask_gdf_within = dask_gdf.map_partitions(\n",
    "    lambda partition: partition[partition.geometry.within(gdf_sea.unary_union)],\n",
    "    meta=gdf.head(0)\n",
    ")\n",
    "\n",
    "# convert Dask GeoDataFrame back to GeoDataFrame\n",
    "gdf = dask_gdf_within.compute()\n",
    "\n",
    "points = gdf[[\"lon\", \"lat\"]].to_numpy()\n",
    "pt_len = gdf.shape[0]\n",
    "gdf.shape"
   ]
  },
  {
   "cell_type": "code",
   "execution_count": 13,
   "id": "37b1b57a-e64d-4bb8-a34d-b2e615a92353",
   "metadata": {},
   "outputs": [],
   "source": [
    "#gdf.to_file('sea.geojson', driver = 'GeoJSON')"
   ]
  },
  {
   "cell_type": "code",
   "execution_count": 26,
   "id": "078554fe-7c80-4968-bb12-bd0a25c5a437",
   "metadata": {},
   "outputs": [
    {
     "data": {
      "text/plain": [
       "(14452, 3)"
      ]
     },
     "execution_count": 26,
     "metadata": {},
     "output_type": "execute_result"
    }
   ],
   "source": [
    "gdf = geopandas.read_file('~/PlanetaryComputerExamples/Capstone/Featurization/sea.geojson')\n",
    "points = gdf[[\"lon\", \"lat\"]].to_numpy()\n",
    "pt_len = gdf.shape[0]\n",
    "gdf.shape"
   ]
  },
  {
   "cell_type": "code",
   "execution_count": 9,
   "id": "e9557649-37bf-4720-b250-10675ff072cd",
   "metadata": {},
   "outputs": [],
   "source": [
    "cluster.close()"
   ]
  },
  {
   "cell_type": "markdown",
   "id": "10dc75c7-a83e-49eb-ae1b-eb30c40f23d7",
   "metadata": {},
   "source": [
    "First we define the pytorch model that we will use to extract the features and a helper method. The **MOSAIKS** methodology describes several ways to do this and we use the simplest."
   ]
  },
  {
   "cell_type": "code",
   "execution_count": 27,
   "id": "600886c1-24cd-4197-aa61-172b1606d33d",
   "metadata": {
    "gather": {
     "logged": 1651174535955
    }
   },
   "outputs": [],
   "source": [
    "class RCF(nn.Module):\n",
    "    \"\"\"A model for extracting Random Convolution Features (RCF) from input imagery.\"\"\"\n",
    "    def __init__(self, num_features=16, kernel_size=3, num_input_channels=channels):\n",
    "        super(RCF, self).__init__()\n",
    "        # We create `num_features / 2` filters so require `num_features` to be divisible by 2\n",
    "        assert num_features % 2 == 0, \"Please enter an even number of features.\"\n",
    "        # Applies a 2D convolution over an input image composed of several input planes.\n",
    "        self.conv1 = nn.Conv2d(\n",
    "            num_input_channels,\n",
    "            num_features // 2,\n",
    "            kernel_size=kernel_size,\n",
    "            stride=1,\n",
    "            padding=0,\n",
    "            dilation=1,\n",
    "            bias=True,\n",
    "        )\n",
    "        # Fills the input Tensor 'conv1.weight' with values drawn from the normal distribution\n",
    "        nn.init.normal_(self.conv1.weight, mean=0.0, std=1.0)\n",
    "        # Fills the input Tensor 'conv1.bias' with the value 'val = -1'.\n",
    "        nn.init.constant_(self.conv1.bias, -1.0)\n",
    "    def forward(self, x):\n",
    "        # The rectified linear activation function or ReLU for short is a piecewise linear function \n",
    "        # that will output the input directly if it is positive, otherwise, it will output zero.\n",
    "        x1a = F.relu(self.conv1(x), inplace=True)\n",
    "        # The below step is where we take the inverse which is appended later\n",
    "        x1b = F.relu(-self.conv1(x), inplace=True)\n",
    "        # Applies a 2D adaptive average pooling over an input signal composed of several input planes.\n",
    "        x1a = F.adaptive_avg_pool2d(x1a, (1, 1)).squeeze()\n",
    "        x1b = F.adaptive_avg_pool2d(x1b, (1, 1)).squeeze()\n",
    "        if len(x1a.shape) == 1:  # case where we passed a single input\n",
    "            return torch.cat((x1a, x1b), dim=0)\n",
    "        elif len(x1a.shape) == 2:  # case where we passed a batch of > 1 inputs\n",
    "            return torch.cat((x1a, x1b), dim=1)"
   ]
  },
  {
   "cell_type": "markdown",
   "id": "c06fbe67-d966-43dd-a2ef-af157487192f",
   "metadata": {},
   "source": [
    "Next, we initialize the model and pytorch components"
   ]
  },
  {
   "cell_type": "code",
   "execution_count": 28,
   "id": "b244448f-9b79-4c58-b779-5e8a4957c84e",
   "metadata": {
    "gather": {
     "logged": 1651174537496
    }
   },
   "outputs": [],
   "source": [
    "device = torch.device(\"cuda\")\n",
    "model = RCF(num_features).eval().to(device)"
   ]
  },
  {
   "cell_type": "markdown",
   "id": "4ef68b83-ce2e-4e70-908f-3e909337af04",
   "metadata": {},
   "source": [
    "### Extract features from the imagery around each point\n",
    "\n",
    "We need to find a suitable Sentinel 2 scene for each point. As usual, we'll use `pystac-client` to search for items matching some conditions, but we don't just want do make a `.search()` call for each of the 67,968 remaining points. Each HTTP request is relatively slow. Instead, we will *batch* or points and search *in parallel*.\n",
    "\n",
    "We need to be a bit careful with how we batch up our points though. Since a single Sentinel 2 scene will cover many points, we want to make sure that points which are spatially close together end up in the same batch. In short, we need to spatially partition the dataset. This is implemented in `dask-geopandas`.\n",
    "\n",
    "So the overall workflow will be\n",
    "\n",
    "1. Find an appropriate STAC item for each point (in parallel, using the spatially partitioned dataset)\n",
    "2. Feed the points and STAC items to a custom Dataset that can read imagery given a point and the URL of a overlapping S2 scene\n",
    "3. Use a custom Dataloader, which uses our Dataset, to feed our model imagery and save the corresponding features"
   ]
  },
  {
   "cell_type": "code",
   "execution_count": 29,
   "id": "ebfd0c2e-78fe-45a9-99a4-13112f0da841",
   "metadata": {
    "gather": {
     "logged": 1651174537641
    },
    "tags": []
   },
   "outputs": [],
   "source": [
    "NPARTITIONS = 250\n",
    "\n",
    "ddf = dask_geopandas.from_geopandas(gdf, npartitions=1)\n",
    "hd = ddf.hilbert_distance().compute()\n",
    "gdf[\"hd\"] = hd\n",
    "gdf = gdf.sort_values(\"hd\")\n",
    "\n",
    "dgdf = dask_geopandas.from_geopandas(gdf, npartitions=NPARTITIONS, sort=False)"
   ]
  },
  {
   "cell_type": "code",
   "execution_count": 30,
   "id": "3a38a958-18cb-4a46-afc2-2a7807a00d00",
   "metadata": {},
   "outputs": [
    {
     "data": {
      "text/plain": [
       "3040014"
      ]
     },
     "execution_count": 30,
     "metadata": {},
     "output_type": "execute_result"
    }
   ],
   "source": [
    "del ddf\n",
    "del hd\n",
    "del gdf\n",
    "gc.collect()"
   ]
  },
  {
   "cell_type": "code",
   "execution_count": 31,
   "id": "80e79884-beb9-4df5-a547-28ede40f699b",
   "metadata": {
    "collapsed": false,
    "jupyter": {
     "outputs_hidden": false
    }
   },
   "outputs": [
    {
     "name": "stdout",
     "output_type": "stream",
     "text": [
      "Using:  \n",
      "   Satellite: landsat-c2-l2  \n",
      "   Pixel Resolution: 30  \n",
      "   Grid Resolution: 0.01 degree squared (WGS84) \n",
      "   Cloud Limit: less than 20%  \n",
      "   Bands: ['SR_B2', 'SR_B3', 'SR_B4', 'SR_B5', 'SR_B6', 'SR_B7'] \n",
      "   Points: 14452 \n",
      "   Number Features: 1000 features \n",
      "   Year Range: 2015 to 2021 \n",
      "\n",
      "Matching images to points for: 7-2015\n",
      "Found acceptable images for 14452/14452 points in 58.43 seconds\n",
      "Featurizing: 07-2015\n"
     ]
    },
    {
     "ename": "TypeError",
     "evalue": "Caught TypeError in DataLoader worker process 0.\nOriginal Traceback (most recent call last):\n  File \"/srv/conda/envs/notebook/lib/python3.9/site-packages/torch/utils/data/_utils/worker.py\", line 302, in _worker_loop\n    data = fetcher.fetch(index)\n  File \"/srv/conda/envs/notebook/lib/python3.9/site-packages/torch/utils/data/_utils/fetch.py\", line 49, in fetch\n    data = [self.dataset[idx] for idx in possibly_batched_index]\n  File \"/srv/conda/envs/notebook/lib/python3.9/site-packages/torch/utils/data/_utils/fetch.py\", line 49, in <listcomp>\n    data = [self.dataset[idx] for idx in possibly_batched_index]\n  File \"<timed exec>\", line 138, in __getitem__\n  File \"/srv/conda/envs/notebook/lib/python3.9/site-packages/stackstac/stack.py\", line 287, in stack\n    asset_table, spec, asset_ids, plain_items = prepare_items(\n  File \"/srv/conda/envs/notebook/lib/python3.9/site-packages/stackstac/prepare.py\", line 333, in prepare_items\n    out_bounds = geom_utils.snapped_bounds(out_bounds, out_resolutions_xy)\n  File \"/srv/conda/envs/notebook/lib/python3.9/site-packages/stackstac/geom_utils.py\", line 72, in snapped_bounds\n    minx, miny, maxx, maxy = bounds\nTypeError: cannot unpack non-iterable NoneType object\n",
     "output_type": "error",
     "traceback": [
      "\u001b[0;31m---------------------------------------------------------------------------\u001b[0m",
      "\u001b[0;31mTypeError\u001b[0m                                 Traceback (most recent call last)",
      "File \u001b[0;32m<timed exec>:173\u001b[0m\n",
      "File \u001b[0;32m/srv/conda/envs/notebook/lib/python3.9/site-packages/torch/utils/data/dataloader.py:681\u001b[0m, in \u001b[0;36m_BaseDataLoaderIter.__next__\u001b[0;34m(self)\u001b[0m\n\u001b[1;32m    678\u001b[0m \u001b[38;5;28;01mif\u001b[39;00m \u001b[38;5;28mself\u001b[39m\u001b[38;5;241m.\u001b[39m_sampler_iter \u001b[38;5;129;01mis\u001b[39;00m \u001b[38;5;28;01mNone\u001b[39;00m:\n\u001b[1;32m    679\u001b[0m     \u001b[38;5;66;03m# TODO(https://github.com/pytorch/pytorch/issues/76750)\u001b[39;00m\n\u001b[1;32m    680\u001b[0m     \u001b[38;5;28mself\u001b[39m\u001b[38;5;241m.\u001b[39m_reset()  \u001b[38;5;66;03m# type: ignore[call-arg]\u001b[39;00m\n\u001b[0;32m--> 681\u001b[0m data \u001b[38;5;241m=\u001b[39m \u001b[38;5;28;43mself\u001b[39;49m\u001b[38;5;241;43m.\u001b[39;49m\u001b[43m_next_data\u001b[49m\u001b[43m(\u001b[49m\u001b[43m)\u001b[49m\n\u001b[1;32m    682\u001b[0m \u001b[38;5;28mself\u001b[39m\u001b[38;5;241m.\u001b[39m_num_yielded \u001b[38;5;241m+\u001b[39m\u001b[38;5;241m=\u001b[39m \u001b[38;5;241m1\u001b[39m\n\u001b[1;32m    683\u001b[0m \u001b[38;5;28;01mif\u001b[39;00m \u001b[38;5;28mself\u001b[39m\u001b[38;5;241m.\u001b[39m_dataset_kind \u001b[38;5;241m==\u001b[39m _DatasetKind\u001b[38;5;241m.\u001b[39mIterable \u001b[38;5;129;01mand\u001b[39;00m \\\n\u001b[1;32m    684\u001b[0m         \u001b[38;5;28mself\u001b[39m\u001b[38;5;241m.\u001b[39m_IterableDataset_len_called \u001b[38;5;129;01mis\u001b[39;00m \u001b[38;5;129;01mnot\u001b[39;00m \u001b[38;5;28;01mNone\u001b[39;00m \u001b[38;5;129;01mand\u001b[39;00m \\\n\u001b[1;32m    685\u001b[0m         \u001b[38;5;28mself\u001b[39m\u001b[38;5;241m.\u001b[39m_num_yielded \u001b[38;5;241m>\u001b[39m \u001b[38;5;28mself\u001b[39m\u001b[38;5;241m.\u001b[39m_IterableDataset_len_called:\n",
      "File \u001b[0;32m/srv/conda/envs/notebook/lib/python3.9/site-packages/torch/utils/data/dataloader.py:1376\u001b[0m, in \u001b[0;36m_MultiProcessingDataLoaderIter._next_data\u001b[0;34m(self)\u001b[0m\n\u001b[1;32m   1374\u001b[0m \u001b[38;5;28;01melse\u001b[39;00m:\n\u001b[1;32m   1375\u001b[0m     \u001b[38;5;28;01mdel\u001b[39;00m \u001b[38;5;28mself\u001b[39m\u001b[38;5;241m.\u001b[39m_task_info[idx]\n\u001b[0;32m-> 1376\u001b[0m     \u001b[38;5;28;01mreturn\u001b[39;00m \u001b[38;5;28;43mself\u001b[39;49m\u001b[38;5;241;43m.\u001b[39;49m\u001b[43m_process_data\u001b[49m\u001b[43m(\u001b[49m\u001b[43mdata\u001b[49m\u001b[43m)\u001b[49m\n",
      "File \u001b[0;32m/srv/conda/envs/notebook/lib/python3.9/site-packages/torch/utils/data/dataloader.py:1402\u001b[0m, in \u001b[0;36m_MultiProcessingDataLoaderIter._process_data\u001b[0;34m(self, data)\u001b[0m\n\u001b[1;32m   1400\u001b[0m \u001b[38;5;28mself\u001b[39m\u001b[38;5;241m.\u001b[39m_try_put_index()\n\u001b[1;32m   1401\u001b[0m \u001b[38;5;28;01mif\u001b[39;00m \u001b[38;5;28misinstance\u001b[39m(data, ExceptionWrapper):\n\u001b[0;32m-> 1402\u001b[0m     \u001b[43mdata\u001b[49m\u001b[38;5;241;43m.\u001b[39;49m\u001b[43mreraise\u001b[49m\u001b[43m(\u001b[49m\u001b[43m)\u001b[49m\n\u001b[1;32m   1403\u001b[0m \u001b[38;5;28;01mreturn\u001b[39;00m data\n",
      "File \u001b[0;32m/srv/conda/envs/notebook/lib/python3.9/site-packages/torch/_utils.py:461\u001b[0m, in \u001b[0;36mExceptionWrapper.reraise\u001b[0;34m(self)\u001b[0m\n\u001b[1;32m    457\u001b[0m \u001b[38;5;28;01mexcept\u001b[39;00m \u001b[38;5;167;01mTypeError\u001b[39;00m:\n\u001b[1;32m    458\u001b[0m     \u001b[38;5;66;03m# If the exception takes multiple arguments, don't try to\u001b[39;00m\n\u001b[1;32m    459\u001b[0m     \u001b[38;5;66;03m# instantiate since we don't know how to\u001b[39;00m\n\u001b[1;32m    460\u001b[0m     \u001b[38;5;28;01mraise\u001b[39;00m \u001b[38;5;167;01mRuntimeError\u001b[39;00m(msg) \u001b[38;5;28;01mfrom\u001b[39;00m \u001b[38;5;28mNone\u001b[39m\n\u001b[0;32m--> 461\u001b[0m \u001b[38;5;28;01mraise\u001b[39;00m exception\n",
      "\u001b[0;31mTypeError\u001b[0m: Caught TypeError in DataLoader worker process 0.\nOriginal Traceback (most recent call last):\n  File \"/srv/conda/envs/notebook/lib/python3.9/site-packages/torch/utils/data/_utils/worker.py\", line 302, in _worker_loop\n    data = fetcher.fetch(index)\n  File \"/srv/conda/envs/notebook/lib/python3.9/site-packages/torch/utils/data/_utils/fetch.py\", line 49, in fetch\n    data = [self.dataset[idx] for idx in possibly_batched_index]\n  File \"/srv/conda/envs/notebook/lib/python3.9/site-packages/torch/utils/data/_utils/fetch.py\", line 49, in <listcomp>\n    data = [self.dataset[idx] for idx in possibly_batched_index]\n  File \"<timed exec>\", line 138, in __getitem__\n  File \"/srv/conda/envs/notebook/lib/python3.9/site-packages/stackstac/stack.py\", line 287, in stack\n    asset_table, spec, asset_ids, plain_items = prepare_items(\n  File \"/srv/conda/envs/notebook/lib/python3.9/site-packages/stackstac/prepare.py\", line 333, in prepare_items\n    out_bounds = geom_utils.snapped_bounds(out_bounds, out_resolutions_xy)\n  File \"/srv/conda/envs/notebook/lib/python3.9/site-packages/stackstac/geom_utils.py\", line 72, in snapped_bounds\n    minx, miny, maxx, maxy = bounds\nTypeError: cannot unpack non-iterable NoneType object\n"
     ]
    }
   ],
   "source": [
    "%%time\n",
    "\n",
    "start_month = 7\n",
    "year_start = 2015\n",
    "year_end = 2021\n",
    "\n",
    "buffer_size = 0.005 #do we need a buffer for SEAs?\n",
    "cloud_limit = 20\n",
    "\n",
    "batch_size = 30\n",
    "workers = os.cpu_count()\n",
    "\n",
    "print(\"Using:  \\n\", \n",
    "      f\"  Satellite: {satellite}  \\n\",\n",
    "      f\"  Pixel Resolution: {resolution}  \\n\",\n",
    "      f\"  Grid Resolution: {buffer_size * 2} degree squared (WGS84) \\n\",\n",
    "      f\"  Cloud Limit: less than {cloud_limit}%  \\n\",\n",
    "      f\"  Bands: {bands} \\n\",\n",
    "      f\"  Points: {pt_len} \\n\",\n",
    "      f\"  Number Features: {num_features} features \\n\",\n",
    "      f\"  Year Range: {year_start} to {year_end} \\n\")\n",
    "\n",
    "for yr in range(year_start, year_end+1):\n",
    "    features = pd.DataFrame()\n",
    "    ft = []\n",
    "    \n",
    "    if (yr == year_start):\n",
    "        month_range = range(start_month, 13)\n",
    "    else:\n",
    "        month_range = range(1, 13) \n",
    "        \n",
    "    for mn in month_range:\n",
    "\n",
    "        if mn < 10:\n",
    "            month = \"0\"+str(mn)\n",
    "        else:\n",
    "            month = mn\n",
    "\n",
    "        def query(points):\n",
    "            \"\"\"\n",
    "            Find a STAC item for points in the `points` DataFrame\n",
    "\n",
    "            Parameters\n",
    "            ----------\n",
    "            points : geopandas.GeoDataFrame\n",
    "                A GeoDataFrame\n",
    "\n",
    "            Returns\n",
    "            -------\n",
    "            geopandas.GeoDataFrame\n",
    "                A new geopandas.GeoDataFrame with a `stac_item` column containing the STAC\n",
    "                item that covers each point.\n",
    "            \"\"\"\n",
    "            intersects = shapely.geometry.mapping(points.unary_union.convex_hull)\n",
    "\n",
    "            catalog = pystac_client.Client.open(\n",
    "                \"https://planetarycomputer.microsoft.com/api/stac/v1\"\n",
    "            )\n",
    "            # Define search date range for query\n",
    "            ending_day = calendar.monthrange(yr, int(mn))[1]\n",
    "            search_start = f\"{yr}-{month}-1\" \n",
    "            search_end = f\"{yr}-{month}-{ending_day}\" \n",
    "            \n",
    "            # The time frame in which we search for non-cloudy imagery\n",
    "            search = catalog.search(\n",
    "                collections=[satellite],  \n",
    "                intersects=intersects,\n",
    "                datetime=[search_start, search_end],\n",
    "                query={\"eo:cloud_cover\": {\"lt\": cloud_limit},\n",
    "                      \"platform\": {\"in\": [\"landsat-8\"]}},\n",
    "                limit=500,\n",
    "            )\n",
    "            ic = search.get_all_items_as_dict()\n",
    "            features = ic[\"features\"]\n",
    "            features_d = {item[\"id\"]: item for item in features}\n",
    "            data = {\n",
    "                \"eo:cloud_cover\": [],\n",
    "                \"geometry\": [],\n",
    "            }\n",
    "            index = []\n",
    "            for item in features:\n",
    "                data[\"eo:cloud_cover\"].append(item[\"properties\"][\"eo:cloud_cover\"])\n",
    "                data[\"geometry\"].append(shapely.geometry.shape(item[\"geometry\"]))\n",
    "                index.append(item[\"id\"])\n",
    "            items = geopandas.GeoDataFrame(data, index=index, geometry=\"geometry\").sort_values(\n",
    "                \"eo:cloud_cover\"\n",
    "            )\n",
    "            point_list = points.geometry.tolist()\n",
    "            point_items = []\n",
    "            for point in point_list:\n",
    "                covered_by = items[items.covers(point)]\n",
    "                if len(covered_by):\n",
    "                    point_items.append(features_d[covered_by.index[0]])\n",
    "                else:\n",
    "                    # There weren't any scenes matching our conditions for this point (too cloudy)\n",
    "                    point_items.append(None)\n",
    "            return points.assign(stac_item=point_items)\n",
    "\n",
    "        tic = time.time()\n",
    "        print(\"Matching images to points for: \", mn, \"-\", yr, sep = \"\")\n",
    "\n",
    "        with Client(n_workers=16) as client:\n",
    "            meta = dgdf._meta.assign(stac_item=[])\n",
    "            df2 = dgdf.map_partitions(query, meta=meta).compute()\n",
    "        df3 = df2.dropna(subset=[\"stac_item\"]).reset_index(drop = True)\n",
    "\n",
    "        matching_items = []\n",
    "        for item in df3.stac_item.tolist():\n",
    "            signed_item = pc.sign(Item.from_dict(item))\n",
    "            matching_items.append(signed_item)\n",
    "\n",
    "\n",
    "        points = df3[[\"lon\", \"lat\"]].to_numpy()\n",
    "        \n",
    "        print(\"Found acceptable images for \", \n",
    "              points.shape[0], \"/\", pt_len,\n",
    "              \" points in \", \n",
    "              f\"{time.time()-tic:0.2f} seconds\", \n",
    "              sep = \"\")\n",
    "\n",
    "\n",
    "        class CustomDataset(Dataset):\n",
    "            def __init__(self, points, items, buffer=buffer_size):\n",
    "                self.points = points\n",
    "                self.items = items\n",
    "                self.buffer = buffer\n",
    "\n",
    "            def __len__(self):\n",
    "                return self.points.shape[0]\n",
    "\n",
    "            def __getitem__(self, idx):\n",
    "\n",
    "                lon, lat = self.points[idx]\n",
    "                fn = self.items[idx]\n",
    "\n",
    "                if fn is None:\n",
    "                    return None\n",
    "                else:\n",
    "                    try:\n",
    "                        stack = stackstac.stack(\n",
    "                            fn,\n",
    "                            assets=bands,\n",
    "                            resolution=resolution,\n",
    "                        )\n",
    "                        x_min, y_min = pyproj.Proj(stack.crs)(lon-self.buffer, lat-self.buffer)\n",
    "                        x_max, y_max = pyproj.Proj(stack.crs)(lon+self.buffer, lat+self.buffer)\n",
    "                        aoi = stack.loc[..., y_max:y_min, x_min:x_max]\n",
    "                        data = aoi.compute(\n",
    "                            scheduler=\"single-threaded\"\n",
    "                            )\n",
    "                        out_image = data.data \n",
    "                        out_image = ((out_image - out_image.min()) ) / (out_image.max() - out_image.min())\n",
    "                    except ValueError:\n",
    "                        pass\n",
    "                    out_image = torch.from_numpy(out_image).float()\n",
    "                    return out_image\n",
    "\n",
    "        dataset = CustomDataset(points, matching_items)\n",
    "\n",
    "        dataloader = DataLoader(\n",
    "            dataset,\n",
    "            batch_size=batch_size,\n",
    "            shuffle=False,\n",
    "            num_workers=workers,\n",
    "            collate_fn=lambda x: x,\n",
    "            pin_memory=False,\n",
    "            # persistent_workers=True,\n",
    "        )\n",
    "\n",
    "        x_all = np.zeros((points.shape[0], num_features), dtype=float)\n",
    "        tic = time.time()\n",
    "        toc = time.time()\n",
    "        i = 0\n",
    "        print(\"Featurizing: \", month, \"-\", yr, sep = \"\")\n",
    "        for images in dataloader:\n",
    "            for image in images:\n",
    "\n",
    "                if i % 1000 == 0:\n",
    "                    print(\n",
    "                        f\"{i}/{points.shape[0]} -- {i / points.shape[0] * 100:0.2f}%\"\n",
    "                        + f\" -- {time.time()-tic:0.2f} seconds\"\n",
    "                    )\n",
    "                    tic = time.time()\n",
    "\n",
    "                    # LS 8 scene size is 185 km x 180 km\n",
    "\n",
    "                if image is not None:\n",
    "                    # each image should have dim (time, bands, height, width) so len(image.shape) == 4\n",
    "                    # with only 1 timestamp (image.shape[0] == 1)\n",
    "                    # Ideally an image.shape will be (1, 7, 33, 34)\n",
    "                    assert len(image.shape) == 4, image.shape[0] == 1\n",
    "                    # A full image should be ~33x34 pixels (i.e. ~1km^2 at a 30m/px spatial\n",
    "                    # resolution), however we can receive smaller images if an input point\n",
    "                    # happens to be at the edge of a Landsat scene (a literal edge case). To deal\n",
    "                    # with these (edge) cases we crudely drop all images where the spatial\n",
    "                    # dimensions aren't both greater than 20 pixels.\n",
    "\n",
    "                    # if type(image) == torch.Tensor: \n",
    "                    try:\n",
    "                        if image.shape[2] >= min_image_edge and image.shape[3] >= min_image_edge:\n",
    "                            image = image.to(device)\n",
    "                            with torch.no_grad():\n",
    "                                feats = model(image).cpu().numpy()\n",
    "                            x_all[i] = feats\n",
    "                        else:\n",
    "                            # this happens if the point is close to the edge \n",
    "                            # of a scene (one or both of the spatial dimensions\n",
    "                            # of the image are very small)\n",
    "                            pass\n",
    "                    except ValueError: \n",
    "                        pass \n",
    "                else:\n",
    "                    pass  # this happens if we do not find a S2 scene for some point\n",
    "                i += 1\n",
    "                \n",
    "                \n",
    "                torch.cuda.empty_cache()\n",
    "                \n",
    "            # torch.cuda.empty_cache()\n",
    "                \n",
    "                \n",
    "                \n",
    "                \n",
    "                \n",
    "        features_monthly = pd.DataFrame(x_all)\n",
    "        features_monthly[[\"lon\", \"lat\"]] = points.tolist()\n",
    "        features_monthly['year'] = yr\n",
    "        features_monthly['month'] = mn\n",
    "        \n",
    "        # ft.append(features_monthly)\n",
    "\n",
    "        features_monthly.columns = features_monthly.columns.astype(str)\n",
    "        \n",
    "        # Save the features to a feather file\n",
    "        file_name = (f'data/{satellite}_bands-{bands_short}_{country_code}_{pt_len/1000:.0f}'+\n",
    "                    f'k-points_{num_features}-features_{yr}_{mn}.feather')\n",
    "        \n",
    "        print(\"Saving file as:\", file_name)\n",
    "        features_monthly.to_feather(file_name)\n",
    "        \n",
    "        # Free memory before loop iterates\n",
    "        print(\"Freeing RAM\")\n",
    "        del meta\n",
    "        del query\n",
    "        del df2\n",
    "        del df3\n",
    "        del points\n",
    "        del dataset\n",
    "        del dataloader\n",
    "        del x_all\n",
    "        del features_monthly\n",
    "        del CustomDataset\n",
    "        gc.collect()\n",
    "        print(f\"Done in {(time.time()-toc)/60:0.2f} minutes\")\n",
    "        print('')\n",
    "    # features = pd.concat(ft).reset_index(drop = True)\n",
    "    \n",
    "    # features.columns = features.columns.astype(str)\n",
    "    \n",
    "    # # Save the features to a feather file\n",
    "    # file_name = (f'data/{satellite}_bands-{bands_short}_{country_code}_{pt_len/1000:.0f}'+\n",
    "    #              f'k-points_{num_features}-features_{yr}.feather')\n",
    "    \n",
    "    # print(\"Saving file as:\", file_name)\n",
    "    # features.to_feather(file_name)\n",
    "    \n",
    "    # display(FileLink(file_name))\n",
    "    \n",
    "    print(\"Save finished!\")\n",
    "    # Free memory before loop iterates\n",
    "    print(\"Freeing RAM\")\n",
    "    # del features\n",
    "    # del ft\n",
    "    # gc.collect()\n",
    "    print('')"
   ]
  }
 ],
 "metadata": {
  "kernel_info": {
   "name": "python3"
  },
  "kernelspec": {
   "display_name": "Python 3 (ipykernel)",
   "language": "python",
   "name": "python3"
  },
  "language_info": {
   "codemirror_mode": {
    "name": "ipython",
    "version": 3
   },
   "file_extension": ".py",
   "mimetype": "text/x-python",
   "name": "python",
   "nbconvert_exporter": "python",
   "pygments_lexer": "ipython3",
   "version": "3.9.13"
  },
  "microsoft": {
   "host": {
    "AzureML": {
     "notebookHasBeenCompleted": true
    }
   }
  },
  "nteract": {
   "version": "nteract-front-end@1.0.0"
  }
 },
 "nbformat": 4,
 "nbformat_minor": 5
}
